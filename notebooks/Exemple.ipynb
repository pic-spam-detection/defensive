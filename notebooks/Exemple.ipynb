{
  "nbformat": 4,
  "nbformat_minor": 0,
  "metadata": {
    "colab": {
      "provenance": []
    },
    "kernelspec": {
      "name": "python3",
      "display_name": "Python 3"
    },
    "language_info": {
      "name": "python"
    }
  },
  "cells": [
    {
      "cell_type": "code",
      "source": [
        "from transformers import pipeline\n",
        "def demander_et_retourner():\n",
        "    # Demander d'entrer le mail.\n",
        "    entree = input(\"Veuillez écrire un mail : \")\n",
        "    # Retourner l'entrée\n",
        "    return entree\n",
        "\n",
        "# Liste des mots-clés à vérifier\n",
        "mots_clefs = [\n",
        "    \"gratuit\", \"urgent\", \"offre\", \"cadeau\", \"promotion\", \"gagner\", \"argent\",\n",
        "    \"félicitation\", \"100%\", \"remboursement\", \"cash\", \"offre limitée\",\n",
        "    \"ne manquez pas\", \"solde\", \"réduction\", \"satisfaction garantie\",\n",
        "    \"exclusif\", \"meilleur prix\", \"activer\", \"mot de passe\", \"password\",\n",
        "    \"cliquez ici\", \"essayez\", \"livraison gratuite\", \"prêt\", \"rapide\",\n",
        "    \"bénéfice\", \"revenu\", \"revenu supplémentaire\", \"loterie\", \"jackpot\",\n",
        "    \"VIP\", \"votre compte\", \"accès\", \"sécurisé\", \"non sollicité\", \"spam\",\n",
        "    \"désabonnement\", \"supprimer\", \"confidentiel\", \"vérifiez\",\n",
        "    \"paiement\", \"facture\", \"gratuité\", \"échantillon\", \"aujourd'hui seulement\",\n",
        "    \"limité\", \"promotion exclusive\", \"approbation\", \"essai\", \"contactez-nous\",\n",
        "    \"devenez riche\", \"propriété\", \"bonus\", \"solde exclusif\",\n",
        "    \"prêt instantané\", \"urgent\", \"100% gratuit\", \"expiré\", \"récupérer\",\n",
        "    \"gros\", \"croissance\", \"immédiat\", \"crédit\", \"assurance\", \"crypto\",\n",
        "    \"Bitcoin\", \"investissement\", \"profitez\", \"multiplier\", \"pas cher\",\n",
        "    \"super affaire\", \"travail à domicile\", \"miracle\", \"aucun risque\",\n",
        "    \"carrière\", \"emploi\", \"revenu passif\", \"prouvez\", \"démarrer maintenant\",\n",
        "    \"partager\", \"opportunité\", \"immédiatement\", \"grande chance\",\n",
        "    \"mise à jour\", \"renouveler\", \"cadeaux\", \"nouveau client\", \"secrets\",\n",
        "    \"formidable\", \"très important\", \"seulement pour vous\", \"participer\",\n",
        "    \"aucun coût\", \"paiement immédiat\", \"enregistré\", \"gratuitement\",\n",
        "    \"annulation\", \"confirmez maintenant\"\n",
        "]\n",
        "\n",
        "\n",
        "def detection_spam_mots_clefs(mail):\n",
        "    # Initialisation de la variable pour indiquer si c'est un spam\n",
        "    is_spam = False\n",
        "\n",
        "    # Vérification des mots-clés dans le texte\n",
        "    for mot in mots_clefs:\n",
        "        if mot in mail.lower():  # Vérifie si le mot-clé est présent (insensible à la casse)\n",
        "            is_spam = True\n",
        "            break  # Sortir de la boucle dès qu'un mot-clé est trouvé\n",
        "\n",
        "    return is_spam\n",
        "\n",
        "def verifier_urls(mail):\n",
        "    mots = mail.split()\n",
        "    url_keywords = [\"http\", \"www\", \".com\", \".net\", \".org\"]\n",
        "    return any(url_keyword in mot for mot in mots for url_keyword in url_keywords)\n",
        "def verifier_exclamations(mail):\n",
        "    return mail.count('!') > 5\n",
        "\n",
        "def verifier_majuscules(mail):\n",
        "    mots = mail.split()\n",
        "    nombre_majuscules = sum(1 for mot in mots if mot.isupper())\n",
        "    return nombre_majuscules > len(mots) * 0.3\n",
        "def verifier_sentiment(mail):\n",
        "    analyse_sentiment = pipeline(\"sentiment-analysis\")\n",
        "    resultat = analyse_sentiment(mail)\n",
        "    return resultat[0][\"label\"] in [\"NEGATIVE\", \"OVERLY_POSITIVE\"]\n",
        "\n",
        "# Exemple d'utilisation\n",
        "mail = demander_et_retourner()\n",
        "if detection_spam_mots_clefs(mail):\n",
        "    print(\"Le mail contient des mots suspectés de spam.\")\n",
        "    print(1)\n",
        "else:\n",
        "    print(\"Le mail ne contient aucun mot suspecté de spam.\")\n",
        "    print(0)\n",
        "\n",
        "if verifier_urls(mail):\n",
        "    print(\"Le mail contient des liens ou des URL suspectes.\")\n",
        "    print(1)\n",
        "if verifier_exclamations(mail):\n",
        "    print(\"Le mail contient trop de points d'exclamation, ce qui est suspect.\")\n",
        "    print(1)\n",
        "\n",
        "if verifier_majuscules(mail):\n",
        "    print(\"Le mail contient trop de mots en majuscules, ce qui est suspect.\")\n",
        "    print(1)\n",
        "\n",
        "if verifier_sentiment(mail):\n",
        "    print(\"Le mail contient trop d'émotion', ce qui est suspect.\")\n",
        "    print(1)\n",
        "\n"
      ],
      "metadata": {
        "id": "GvRK8b1VzDaQ"
      },
      "execution_count": null,
      "outputs": []
    },
    {
      "cell_type": "code",
      "source": [
        "from transformers import pipeline\n",
        "\n",
        "pipe = pipeline(model=\"facebook/bart-large-mnli\")\n",
        "pipe(\"I have a problem with my iphone that needs to be resolved asap!\",\n",
        "    candidate_labels=[\"urgent\", \"not urgent\", \"phone\", \"tablet\", \"computer\",\"tv\",\"laptop\"],\n",
        ")"
      ],
      "metadata": {
        "colab": {
          "base_uri": "https://localhost:8080/"
        },
        "id": "Pvh3AD9TxGM5",
        "outputId": "d900a9db-461d-4b12-ca03-bb42fc1a0129"
      },
      "execution_count": null,
      "outputs": [
        {
          "output_type": "stream",
          "name": "stderr",
          "text": [
            "Device set to use cpu\n"
          ]
        },
        {
          "output_type": "execute_result",
          "data": {
            "text/plain": [
              "{'sequence': 'I have a problem with my iphone that needs to be resolved asap!',\n",
              " 'labels': ['urgent',\n",
              "  'phone',\n",
              "  'computer',\n",
              "  'not urgent',\n",
              "  'tablet',\n",
              "  'tv',\n",
              "  'laptop'],\n",
              " 'scores': [0.5211490392684937,\n",
              "  0.45673075318336487,\n",
              "  0.014220678247511387,\n",
              "  0.0026767440140247345,\n",
              "  0.0021454363595694304,\n",
              "  0.0017934908391907811,\n",
              "  0.0012837933609262109]}"
            ]
          },
          "metadata": {},
          "execution_count": 7
        }
      ]
    }
  ]
}